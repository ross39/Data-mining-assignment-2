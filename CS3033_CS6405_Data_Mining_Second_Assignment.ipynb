{
  "cells": [
    {
      "cell_type": "markdown",
      "metadata": {
        "id": "view-in-github",
        "colab_type": "text"
      },
      "source": [
        "<a href=\"https://colab.research.google.com/github/ross39/Data-mining-assignment-2/blob/main/CS3033_CS6405_Data_Mining_Second_Assignment.ipynb\" target=\"_parent\"><img src=\"https://colab.research.google.com/assets/colab-badge.svg\" alt=\"Open In Colab\"/></a>"
      ]
    },
    {
      "cell_type": "markdown",
      "metadata": {
        "id": "8WfrCFmLHxYu"
      },
      "source": [
        "# CS3033/CS6405 - Data Mining - Second Assignment\n",
        "\n",
        "### Submission\n",
        "\n",
        "This assignment is **due on 07/04/22 at 23:59**. You should submit a single .ipnyb file with your python code and analysis electronically via Canvas.\n",
        "Please note that this assignment will account for 25 Marks of your module grade.\n",
        "\n",
        "### Declaration\n",
        "\n",
        "By submitting this assignment. I agree to the following:\n",
        "\n",
        "<font color=\"red\">“I have read and understand the UCC academic policy on plagiarism, and agree to the requirements set out thereby in relation to plagiarism and referencing. I confirm that I have referenced and acknowledged properly all sources used in the preparation of this assignment.\n",
        "I declare that this assignment is entirely my own work based on my personal study. I further declare that I have not engaged the services of another to either assist me in, or complete this assignment”</font>\n",
        "\n",
        "### Objective\n",
        "\n",
        "The Boolean satisfiability (SAT) problem consists in determining whether a Boolean formula F is satisfiable or not. F is represented by a pair (X, C), where X is a set of Boolean variables and C is a set of clauses in Conjunctive Normal Form (CNF). Each clause is a disjunction of literals (a variable or its negation). This problem is one of the most widely studied combinatorial problems in computer science. It is the classic NP-complete problem. Over the past number of decades, a significant amount of research work has focused on solving SAT problems with both complete and incomplete solvers.\n",
        "\n",
        "One of the most successful approaches is an algorithm portfolio, where a solver is selected among a set of candidates depending on the problem type. Your task is to create a classifier that takes as input the SAT instance's features and identifies the class.\n",
        "\n",
        "In this project, we represent SAT problems with a vector of 327 features with general information about the problem, e.g., number of variables, number of clauses, the fraction of horn clauses in the problem, etc. There is no need to understand the features to be able to complete the assignment.\n",
        "\n",
        "\n",
        "The original dataset is available at:\n",
        "https://github.com/bprovanbessell/SATfeatPy/blob/main/features_csv/all_features.csv\n",
        "\n"
      ]
    },
    {
      "cell_type": "markdown",
      "source": [
        "# I used the following paper as a reference for this assignment:\n",
        "http://www.cs.ucc.ie/~osullb/pubs/classification.pdf"
      ],
      "metadata": {
        "id": "Q0O18IKbsdky"
      }
    },
    {
      "cell_type": "markdown",
      "metadata": {
        "id": "Oav9G1WSJ1nH"
      },
      "source": [
        "## Data Preparation"
      ]
    },
    {
      "cell_type": "code",
      "execution_count": 1,
      "metadata": {
        "colab": {
          "base_uri": "https://localhost:8080/",
          "height": 300
        },
        "id": "DE0kM0QsJ1En",
        "outputId": "c93d9eaa-08ac-4511-c1e0-e857d07813c1"
      },
      "outputs": [
        {
          "output_type": "execute_result",
          "data": {
            "text/plain": [
              "     c    v  clauses_vars_ratio  vars_clauses_ratio  vcg_var_mean  \\\n",
              "0  608   71            8.563380            0.116776      0.045172   \n",
              "1  615   70            8.785714            0.113821      0.049617   \n",
              "2  926  105            8.819048            0.113391      0.033385   \n",
              "3  603   70            8.614286            0.116086      0.049799   \n",
              "4  228   43            5.302326            0.188596      0.067319   \n",
              "\n",
              "   vcg_var_coeff  vcg_var_min  vcg_var_max  vcg_var_entropy  vcg_clause_mean  \\\n",
              "0       0.173688     0.029605     0.060855         2.802758         0.045172   \n",
              "1       0.168633     0.032520     0.069919         2.607264         0.049617   \n",
              "2       0.186444     0.017279     0.047516         3.022879         0.033385   \n",
              "3       0.133441     0.033167     0.063018         2.688342         0.049799   \n",
              "4       0.162581     0.048246     0.087719         2.203308         0.067319   \n",
              "\n",
              "   ...  rwh_0_max   rwh_1_mean  rwh_1_coeff     rwh_1_min    rwh_1_max  \\\n",
              "0  ...  5078250.0  1056.695041     1.000000  2.981935e-09  2113.390083   \n",
              "1  ...  5469376.0  1207.488426     1.000000  6.927306e-28  2414.976852   \n",
              "2  ...  4297025.0   441.327046     1.000000  1.194627e-76   882.654092   \n",
              "3  ...  6640651.0  1181.583331     1.000000  2.437278e-30  2363.166661   \n",
              "4  ...  2437500.0  1091.423921     0.999966  3.723599e-02  2182.810606   \n",
              "\n",
              "    rwh_2_mean  rwh_2_coeff      rwh_2_min    rwh_2_max    target  \n",
              "0  1081.900778          1.0   1.302080e-29  2163.801556  matching  \n",
              "1  1186.623627          1.0  3.491123e-120  2373.247255  matching  \n",
              "2   474.697562          1.0   0.000000e+00   949.395124  matching  \n",
              "3  1149.059132          1.0  4.670090e-147  2298.118264  matching  \n",
              "4  1296.888087          1.0   6.307424e-06  2593.776167  matching  \n",
              "\n",
              "[5 rows x 328 columns]"
            ],
            "text/html": [
              "\n",
              "  <div id=\"df-9543a507-2dfe-4dd9-b620-ee3469406336\">\n",
              "    <div class=\"colab-df-container\">\n",
              "      <div>\n",
              "<style scoped>\n",
              "    .dataframe tbody tr th:only-of-type {\n",
              "        vertical-align: middle;\n",
              "    }\n",
              "\n",
              "    .dataframe tbody tr th {\n",
              "        vertical-align: top;\n",
              "    }\n",
              "\n",
              "    .dataframe thead th {\n",
              "        text-align: right;\n",
              "    }\n",
              "</style>\n",
              "<table border=\"1\" class=\"dataframe\">\n",
              "  <thead>\n",
              "    <tr style=\"text-align: right;\">\n",
              "      <th></th>\n",
              "      <th>c</th>\n",
              "      <th>v</th>\n",
              "      <th>clauses_vars_ratio</th>\n",
              "      <th>vars_clauses_ratio</th>\n",
              "      <th>vcg_var_mean</th>\n",
              "      <th>vcg_var_coeff</th>\n",
              "      <th>vcg_var_min</th>\n",
              "      <th>vcg_var_max</th>\n",
              "      <th>vcg_var_entropy</th>\n",
              "      <th>vcg_clause_mean</th>\n",
              "      <th>...</th>\n",
              "      <th>rwh_0_max</th>\n",
              "      <th>rwh_1_mean</th>\n",
              "      <th>rwh_1_coeff</th>\n",
              "      <th>rwh_1_min</th>\n",
              "      <th>rwh_1_max</th>\n",
              "      <th>rwh_2_mean</th>\n",
              "      <th>rwh_2_coeff</th>\n",
              "      <th>rwh_2_min</th>\n",
              "      <th>rwh_2_max</th>\n",
              "      <th>target</th>\n",
              "    </tr>\n",
              "  </thead>\n",
              "  <tbody>\n",
              "    <tr>\n",
              "      <th>0</th>\n",
              "      <td>608</td>\n",
              "      <td>71</td>\n",
              "      <td>8.563380</td>\n",
              "      <td>0.116776</td>\n",
              "      <td>0.045172</td>\n",
              "      <td>0.173688</td>\n",
              "      <td>0.029605</td>\n",
              "      <td>0.060855</td>\n",
              "      <td>2.802758</td>\n",
              "      <td>0.045172</td>\n",
              "      <td>...</td>\n",
              "      <td>5078250.0</td>\n",
              "      <td>1056.695041</td>\n",
              "      <td>1.000000</td>\n",
              "      <td>2.981935e-09</td>\n",
              "      <td>2113.390083</td>\n",
              "      <td>1081.900778</td>\n",
              "      <td>1.0</td>\n",
              "      <td>1.302080e-29</td>\n",
              "      <td>2163.801556</td>\n",
              "      <td>matching</td>\n",
              "    </tr>\n",
              "    <tr>\n",
              "      <th>1</th>\n",
              "      <td>615</td>\n",
              "      <td>70</td>\n",
              "      <td>8.785714</td>\n",
              "      <td>0.113821</td>\n",
              "      <td>0.049617</td>\n",
              "      <td>0.168633</td>\n",
              "      <td>0.032520</td>\n",
              "      <td>0.069919</td>\n",
              "      <td>2.607264</td>\n",
              "      <td>0.049617</td>\n",
              "      <td>...</td>\n",
              "      <td>5469376.0</td>\n",
              "      <td>1207.488426</td>\n",
              "      <td>1.000000</td>\n",
              "      <td>6.927306e-28</td>\n",
              "      <td>2414.976852</td>\n",
              "      <td>1186.623627</td>\n",
              "      <td>1.0</td>\n",
              "      <td>3.491123e-120</td>\n",
              "      <td>2373.247255</td>\n",
              "      <td>matching</td>\n",
              "    </tr>\n",
              "    <tr>\n",
              "      <th>2</th>\n",
              "      <td>926</td>\n",
              "      <td>105</td>\n",
              "      <td>8.819048</td>\n",
              "      <td>0.113391</td>\n",
              "      <td>0.033385</td>\n",
              "      <td>0.186444</td>\n",
              "      <td>0.017279</td>\n",
              "      <td>0.047516</td>\n",
              "      <td>3.022879</td>\n",
              "      <td>0.033385</td>\n",
              "      <td>...</td>\n",
              "      <td>4297025.0</td>\n",
              "      <td>441.327046</td>\n",
              "      <td>1.000000</td>\n",
              "      <td>1.194627e-76</td>\n",
              "      <td>882.654092</td>\n",
              "      <td>474.697562</td>\n",
              "      <td>1.0</td>\n",
              "      <td>0.000000e+00</td>\n",
              "      <td>949.395124</td>\n",
              "      <td>matching</td>\n",
              "    </tr>\n",
              "    <tr>\n",
              "      <th>3</th>\n",
              "      <td>603</td>\n",
              "      <td>70</td>\n",
              "      <td>8.614286</td>\n",
              "      <td>0.116086</td>\n",
              "      <td>0.049799</td>\n",
              "      <td>0.133441</td>\n",
              "      <td>0.033167</td>\n",
              "      <td>0.063018</td>\n",
              "      <td>2.688342</td>\n",
              "      <td>0.049799</td>\n",
              "      <td>...</td>\n",
              "      <td>6640651.0</td>\n",
              "      <td>1181.583331</td>\n",
              "      <td>1.000000</td>\n",
              "      <td>2.437278e-30</td>\n",
              "      <td>2363.166661</td>\n",
              "      <td>1149.059132</td>\n",
              "      <td>1.0</td>\n",
              "      <td>4.670090e-147</td>\n",
              "      <td>2298.118264</td>\n",
              "      <td>matching</td>\n",
              "    </tr>\n",
              "    <tr>\n",
              "      <th>4</th>\n",
              "      <td>228</td>\n",
              "      <td>43</td>\n",
              "      <td>5.302326</td>\n",
              "      <td>0.188596</td>\n",
              "      <td>0.067319</td>\n",
              "      <td>0.162581</td>\n",
              "      <td>0.048246</td>\n",
              "      <td>0.087719</td>\n",
              "      <td>2.203308</td>\n",
              "      <td>0.067319</td>\n",
              "      <td>...</td>\n",
              "      <td>2437500.0</td>\n",
              "      <td>1091.423921</td>\n",
              "      <td>0.999966</td>\n",
              "      <td>3.723599e-02</td>\n",
              "      <td>2182.810606</td>\n",
              "      <td>1296.888087</td>\n",
              "      <td>1.0</td>\n",
              "      <td>6.307424e-06</td>\n",
              "      <td>2593.776167</td>\n",
              "      <td>matching</td>\n",
              "    </tr>\n",
              "  </tbody>\n",
              "</table>\n",
              "<p>5 rows × 328 columns</p>\n",
              "</div>\n",
              "      <button class=\"colab-df-convert\" onclick=\"convertToInteractive('df-9543a507-2dfe-4dd9-b620-ee3469406336')\"\n",
              "              title=\"Convert this dataframe to an interactive table.\"\n",
              "              style=\"display:none;\">\n",
              "        \n",
              "  <svg xmlns=\"http://www.w3.org/2000/svg\" height=\"24px\"viewBox=\"0 0 24 24\"\n",
              "       width=\"24px\">\n",
              "    <path d=\"M0 0h24v24H0V0z\" fill=\"none\"/>\n",
              "    <path d=\"M18.56 5.44l.94 2.06.94-2.06 2.06-.94-2.06-.94-.94-2.06-.94 2.06-2.06.94zm-11 1L8.5 8.5l.94-2.06 2.06-.94-2.06-.94L8.5 2.5l-.94 2.06-2.06.94zm10 10l.94 2.06.94-2.06 2.06-.94-2.06-.94-.94-2.06-.94 2.06-2.06.94z\"/><path d=\"M17.41 7.96l-1.37-1.37c-.4-.4-.92-.59-1.43-.59-.52 0-1.04.2-1.43.59L10.3 9.45l-7.72 7.72c-.78.78-.78 2.05 0 2.83L4 21.41c.39.39.9.59 1.41.59.51 0 1.02-.2 1.41-.59l7.78-7.78 2.81-2.81c.8-.78.8-2.07 0-2.86zM5.41 20L4 18.59l7.72-7.72 1.47 1.35L5.41 20z\"/>\n",
              "  </svg>\n",
              "      </button>\n",
              "      \n",
              "  <style>\n",
              "    .colab-df-container {\n",
              "      display:flex;\n",
              "      flex-wrap:wrap;\n",
              "      gap: 12px;\n",
              "    }\n",
              "\n",
              "    .colab-df-convert {\n",
              "      background-color: #E8F0FE;\n",
              "      border: none;\n",
              "      border-radius: 50%;\n",
              "      cursor: pointer;\n",
              "      display: none;\n",
              "      fill: #1967D2;\n",
              "      height: 32px;\n",
              "      padding: 0 0 0 0;\n",
              "      width: 32px;\n",
              "    }\n",
              "\n",
              "    .colab-df-convert:hover {\n",
              "      background-color: #E2EBFA;\n",
              "      box-shadow: 0px 1px 2px rgba(60, 64, 67, 0.3), 0px 1px 3px 1px rgba(60, 64, 67, 0.15);\n",
              "      fill: #174EA6;\n",
              "    }\n",
              "\n",
              "    [theme=dark] .colab-df-convert {\n",
              "      background-color: #3B4455;\n",
              "      fill: #D2E3FC;\n",
              "    }\n",
              "\n",
              "    [theme=dark] .colab-df-convert:hover {\n",
              "      background-color: #434B5C;\n",
              "      box-shadow: 0px 1px 3px 1px rgba(0, 0, 0, 0.15);\n",
              "      filter: drop-shadow(0px 1px 2px rgba(0, 0, 0, 0.3));\n",
              "      fill: #FFFFFF;\n",
              "    }\n",
              "  </style>\n",
              "\n",
              "      <script>\n",
              "        const buttonEl =\n",
              "          document.querySelector('#df-9543a507-2dfe-4dd9-b620-ee3469406336 button.colab-df-convert');\n",
              "        buttonEl.style.display =\n",
              "          google.colab.kernel.accessAllowed ? 'block' : 'none';\n",
              "\n",
              "        async function convertToInteractive(key) {\n",
              "          const element = document.querySelector('#df-9543a507-2dfe-4dd9-b620-ee3469406336');\n",
              "          const dataTable =\n",
              "            await google.colab.kernel.invokeFunction('convertToInteractive',\n",
              "                                                     [key], {});\n",
              "          if (!dataTable) return;\n",
              "\n",
              "          const docLinkHtml = 'Like what you see? Visit the ' +\n",
              "            '<a target=\"_blank\" href=https://colab.research.google.com/notebooks/data_table.ipynb>data table notebook</a>'\n",
              "            + ' to learn more about interactive tables.';\n",
              "          element.innerHTML = '';\n",
              "          dataTable['output_type'] = 'display_data';\n",
              "          await google.colab.output.renderOutput(dataTable, element);\n",
              "          const docLink = document.createElement('div');\n",
              "          docLink.innerHTML = docLinkHtml;\n",
              "          element.appendChild(docLink);\n",
              "        }\n",
              "      </script>\n",
              "    </div>\n",
              "  </div>\n",
              "  "
            ]
          },
          "metadata": {},
          "execution_count": 1
        }
      ],
      "source": [
        "import pandas as pd\n",
        "\n",
        "import os\n",
        "import random\n",
        "import subprocess\n",
        "import time\n",
        "\n",
        "import numpy as np\n",
        "import pandas as pd\n",
        "\n",
        "from sklearn.pipeline import Pipeline\n",
        "from sklearn.model_selection import train_test_split\n",
        "from sklearn.metrics import accuracy_score\n",
        "from sklearn.preprocessing import LabelEncoder\n",
        "from sklearn.preprocessing import MinMaxScaler\n",
        "from sklearn.decomposition import PCA\n",
        "from sklearn.tree import DecisionTreeClassifier\n",
        "from sklearn.model_selection import GridSearchCV\n",
        "from sklearn.feature_selection import SelectKBest\n",
        "from sklearn.feature_selection import f_classif\n",
        "from sklearn.model_selection import GridSearchCV\n",
        "from sklearn.feature_selection import VarianceThreshold\n",
        "\n",
        "\n",
        "df = pd.read_csv(\"https://raw.githubusercontent.com/andvise/DataAnalyticsDatasets/main/train_dataset.csv\", index_col=0)\n",
        "df.head()"
      ]
    },
    {
      "cell_type": "code",
      "execution_count": 2,
      "metadata": {
        "colab": {
          "base_uri": "https://localhost:8080/"
        },
        "id": "N8MCvTYTKw4Q",
        "outputId": "40a4259c-620e-4425-a8b7-f51960800689"
      },
      "outputs": [
        {
          "output_type": "execute_result",
          "data": {
            "text/plain": [
              "tseitin           298\n",
              "dominating        294\n",
              "cliquecoloring    268\n",
              "php               266\n",
              "subsetcard        263\n",
              "op                201\n",
              "tiling            120\n",
              "5clique           108\n",
              "3color            104\n",
              "matching          102\n",
              "5color             98\n",
              "4color             98\n",
              "3clique            98\n",
              "4clique            94\n",
              "Name: target, dtype: int64"
            ]
          },
          "metadata": {},
          "execution_count": 2
        }
      ],
      "source": [
        "# Label or target variable\n",
        "df['target'].value_counts()"
      ]
    },
    {
      "cell_type": "markdown",
      "metadata": {
        "id": "MTvkBPQvITf-"
      },
      "source": [
        "# Tasks\n",
        "\n",
        "## Basic models and evaluation (5 Marks)\n",
        "\n",
        "Using Scikit-learn, train and evaluate a decision tree classifier using 70% of the dataset from training and 30% for testing. For this part of the project, we are not interested in optimising the parameters; we just want to get an idea of the dataset."
      ]
    },
    {
      "cell_type": "markdown",
      "source": [
        "###  I was having issues with infinity values and very large values. So I added in a check to replace infinite values."
      ],
      "metadata": {
        "id": "JH6nIGmyqlwO"
      }
    },
    {
      "cell_type": "code",
      "execution_count": 3,
      "metadata": {
        "id": "jHxS_Rdwp8Nd",
        "outputId": "667cb6be-4073-4c8d-cff9-71f8c95946c6",
        "colab": {
          "base_uri": "https://localhost:8080/"
        }
      },
      "outputs": [
        {
          "output_type": "stream",
          "name": "stdout",
          "text": [
            "Infinity Values: True\n"
          ]
        }
      ],
      "source": [
        "# Some data cleaning\n",
        "df=df.dropna(axis=1) \n",
        "print('Infinity Values:',df.isin([np.inf, -np.inf]).values.any()) \n",
        "\n",
        "df=df.replace([np.inf, -np.inf], np.nan).dropna(axis=1)\n"
      ]
    },
    {
      "cell_type": "code",
      "execution_count": 4,
      "metadata": {
        "id": "Zl0VXO0YH1nG",
        "outputId": "01965f8d-c8c6-4313-b6a3-9076bdf00b62",
        "colab": {
          "base_uri": "https://localhost:8080/"
        }
      },
      "outputs": [
        {
          "output_type": "stream",
          "name": "stdout",
          "text": [
            "Accuracy Score: 0.9447513812154696\n"
          ]
        }
      ],
      "source": [
        "# Set the target variable\n",
        "df_target = df['target']\n",
        "df_features = df.drop('target', axis=1)\n",
        "# Split the data into train and test\n",
        "X_train, X_test, y_train, y_test = train_test_split(df_features, df_target, test_size=0.3, random_state=42)\n",
        "\n",
        "# MinMax scale the data \n",
        "scaler = MinMaxScaler()\n",
        "X_train = scaler.fit_transform(X_train)\n",
        "X_test = scaler.transform(X_test)\n",
        "\n",
        "encoder = LabelEncoder()\n",
        "y_train = encoder.fit_transform(y_train)\n",
        "y_test = encoder.transform(y_test)\n",
        "\n",
        "pca = PCA(n_components=50)\n",
        "# Encode the target and features\n",
        "training_features_pca = pca.fit_transform(X_train)\n",
        "testing_features_pca = pca.transform(X_test)\n",
        "\n",
        "# create a decision tree \n",
        "dc_one = DecisionTreeClassifier(random_state=42)\n",
        "dc_one.fit(training_features_pca, y_train)\n",
        "y_pred = dc_one.predict(testing_features_pca)\n",
        "\n",
        "# Evaluate the model\n",
        "print('Accuracy Score:', accuracy_score(y_test, y_pred))\n",
        "\n",
        "\n",
        "\n",
        "\n",
        "\n"
      ]
    },
    {
      "cell_type": "markdown",
      "metadata": {
        "id": "zADpr0f8IcGL"
      },
      "source": [
        "## Robust evaluation (10 Marks)\n",
        "\n",
        "In this section, we are interested in more rigorous techniques by implementing more sophisticated methods, for instance:\n",
        "* Hold-out and cross-validation.\n",
        "* Hyper-parameter tuning.\n",
        "* Feature reduction.\n",
        "* Feature selection.\n",
        "* Feature normalisation.\n",
        "\n",
        "Your report should provide concrete information about your reasoning; everything should be well-explained.\n",
        "\n",
        "The key to geting good marks is to show that you evaluated different methods and that you correctly selected the configuration."
      ]
    },
    {
      "cell_type": "code",
      "execution_count": 5,
      "metadata": {
        "id": "tvBZH6ilInsA",
        "outputId": "6026768a-6f4c-4549-823c-1b782e3c21dc",
        "colab": {
          "base_uri": "https://localhost:8080/"
        }
      },
      "outputs": [
        {
          "output_type": "execute_result",
          "data": {
            "text/plain": [
              "0.9323204419889503"
            ]
          },
          "metadata": {},
          "execution_count": 5
        }
      ],
      "source": [
        "\n",
        "classifier = Pipeline([\n",
        "    ('pca', PCA(n_components=50)),\n",
        "    ('predictor', DecisionTreeClassifier(random_state=42))\n",
        "])\n",
        "\n",
        "params = {\"pca__n_components\": [8,10,12],\n",
        "          \"predictor__criterion\": [\"gini\", \"entropy\", \"log_loss\"],\n",
        "          \"predictor__splitter\": [\"best\", \"random\"],\n",
        "          \"predictor__max_features\": [\"sqrt\", \"log2\"],\n",
        "          }\n",
        "\n",
        "cross_validate_dc = GridSearchCV(classifier, params, cv=5, scoring='accuracy')\n",
        "cross_validate_dc.fit(X_train, y_train)\n",
        "\n",
        "# Test on unseen data\n",
        "cross_validate_dc.best_params_\n",
        "classifier.set_params(**cross_validate_dc.best_params_)\n",
        "classifier.fit(X_train, y_train)\n",
        "accuracy_score(y_test, classifier.predict(X_test))\n"
      ]
    },
    {
      "cell_type": "markdown",
      "metadata": {
        "id": "o8k_Tls0p8Nh"
      },
      "source": [
        "# Feature selection"
      ]
    },
    {
      "cell_type": "code",
      "execution_count": 6,
      "metadata": {
        "id": "_2AFrLuXp8Nh",
        "outputId": "b767344b-efde-42e3-a92e-b07a713654e7",
        "colab": {
          "base_uri": "https://localhost:8080/"
        }
      },
      "outputs": [
        {
          "output_type": "execute_result",
          "data": {
            "text/plain": [
              "0.9958563535911602"
            ]
          },
          "metadata": {},
          "execution_count": 6
        }
      ],
      "source": [
        "filter = VarianceThreshold(threshold=0.03)\n",
        "X_train_filtered = filter.fit_transform(X_train)\n",
        "X_test_filtered = filter.transform(X_test)\n",
        "\n",
        "# Feature reduction\n",
        "classifier_2 = Pipeline([\n",
        "    (\"feature_selection\",SelectKBest(f_classif)),\n",
        "    (\"predictor\", DecisionTreeClassifier(random_state=0))\n",
        "    ])\n",
        "\n",
        "params = {\"feature_selection__k\": [20,40,80,'all'],\n",
        "              \"predictor__criterion\": [\"gini\", \"entropy\", \"log_loss\"],\n",
        "              \"predictor__splitter\": [\"best\",\"random\"],\n",
        "              \"predictor__max_features\":[\"sqrt\", \"log2\",None]\n",
        "              }\n",
        "\n",
        "\n",
        "cross_validate_feature_dc = GridSearchCV(classifier_2, params, scoring='accuracy', cv=10)\n",
        "cross_validate_feature_dc.fit(X_train_filtered, y_train)\n",
        "\n",
        "# Test on unseen data\n",
        "cross_validate_feature_dc.best_params_\n",
        "classifier_2.set_params(**cross_validate_feature_dc.best_params_)\n",
        "classifier_2.fit(X_train_filtered, y_train)\n",
        "accuracy_score(y_test, classifier_2.predict(X_test_filtered))"
      ]
    },
    {
      "cell_type": "markdown",
      "metadata": {
        "id": "FYoMg0EZIrNd"
      },
      "source": [
        "## New classifier (10 Marks)\n",
        "\n",
        "Replicate the previous task for a classifier different than K-NN and decision trees. Briefly describe your choice.\n",
        "Try to create the best model for the given dataset.\n",
        "\n",
        "\n",
        "Save your best model into your github. And create a single code cell that loads it and evaluate it on the following test dataset:\n",
        "https://github.com/andvise/DataAnalyticsDatasets/blob/main/test_dataset.csv\n",
        "\n",
        "This link currently contains a sample of the training set. The real test set will be released after the submission. I should be able to run the code cell independently, load all the libraries you need as well."
      ]
    },
    {
      "cell_type": "markdown",
      "source": [
        "# SVM \n",
        "\n",
        "I decided to use SVM, as my model of choice. support vector machines draw hyperplanes in order to seperate the points for classification. In this case it will draw hyperplanes using the SAT's instance features which will then(hopefully) correctly identify the class of SAT problem"
      ],
      "metadata": {
        "id": "cVcD7vM9z1zc"
      }
    },
    {
      "cell_type": "code",
      "execution_count": 7,
      "metadata": {
        "id": "QRJXrY2hI32F",
        "colab": {
          "base_uri": "https://localhost:8080/"
        },
        "outputId": "cddfb9fb-e327-4d11-9fc3-551841380aa7"
      },
      "outputs": [
        {
          "output_type": "execute_result",
          "data": {
            "text/plain": [
              "0.988950276243094"
            ]
          },
          "metadata": {},
          "execution_count": 7
        }
      ],
      "source": [
        "from sklearn import svm \n",
        "\n",
        "new_classifier = Pipeline([\n",
        "    ('pca', PCA(n_components=50)),\n",
        "    ('predictor', svm.SVC(random_state=42)),\n",
        "])\n",
        "params = {  \"pca__n_components\": [10, 20, 30],\n",
        "            \"predictor__kernel\": [\"linear\", \"poly\", \"rbf\", \"sigmoid\"],\n",
        "        }   \n",
        "\n",
        "cross_validate_feature_svm = GridSearchCV(new_classifier, params, cv=5, scoring='accuracy')\n",
        "cross_validate_feature_svm.fit(X_train, y_train)\n",
        "\n",
        "# Test on unseen data\n",
        "cross_validate_feature_svm.best_params_\n",
        "new_classifier.set_params(**cross_validate_feature_svm.best_params_)\n",
        "new_classifier.fit(X_train, y_train)\n",
        "accuracy_score(y_test, new_classifier.predict(X_test))\n",
        "\n",
        "            \n",
        "            "
      ]
    },
    {
      "cell_type": "code",
      "source": [
        "from sklearn.ensemble import RandomForestClassifier\n",
        "\n",
        "new_classifier = Pipeline([\n",
        "    ('pca', PCA(n_components=50)),\n",
        "    ('predictor', RandomForestClassifier(random_state=42)),\n",
        "])\n",
        "params = {  \"pca__n_components\": [10, 20, 30, 50, 80, 100],\n",
        "            \"predictor__criterion\": [\"gini\", \"entropy\", \"log_loss\"],\n",
        "            \"predictor__max_features\": [\"sqrt\", \"log2\"],\n",
        "        }\n",
        "\n",
        "cross_validate_feature_rf = GridSearchCV(new_classifier, params, cv=5, scoring='accuracy')\n",
        "cross_validate_feature_rf.fit(X_train, y_train) \n",
        "\n",
        "# Test on unseen data\n",
        "cross_validate_feature_rf.best_params_\n",
        "new_classifier.set_params(**cross_validate_feature_rf.best_params_)\n",
        "new_classifier.fit(X_train, y_train)\n",
        "accuracy_score(y_test, new_classifier.predict(X_test))\n"
      ],
      "metadata": {
        "colab": {
          "base_uri": "https://localhost:8080/"
        },
        "id": "rJ1R-D-tsj2O",
        "outputId": "898618db-a5bb-4513-f341-0ad1e40df5ea"
      },
      "execution_count": 11,
      "outputs": [
        {
          "output_type": "execute_result",
          "data": {
            "text/plain": [
              "0.9792817679558011"
            ]
          },
          "metadata": {},
          "execution_count": 11
        }
      ]
    },
    {
      "cell_type": "markdown",
      "metadata": {
        "id": "Q01BjiiCJTR4"
      },
      "source": [
        "# <font color=\"blue\">FOR GRADING ONLY</font>\n",
        "\n",
        "Save your best model into your github. And create a single code cell that loads it and evaluate it on the following test dataset: \n",
        "https://github.com/andvise/DataAnalyticsDatasets/blob/main/test_dataset.csv\n"
      ]
    },
    {
      "cell_type": "code",
      "execution_count": null,
      "metadata": {
        "id": "IWx4lyuQI929"
      },
      "outputs": [],
      "source": [
        "from joblib import dump, load\n",
        "from io import BytesIO\n",
        "import requests\n",
        "\n",
        "# INSERT YOUR MODEL'S URL\n",
        "mLink = 'URL_OF_YOUR_MODEL_SAVED_IN_YOUR_GITHUB_REPOSITORY?raw=true'\n",
        "# mfile = BytesIO(requests.get(mLink).content)\n",
        "# model = load(mfile)\n",
        "# YOUR CODE HERE"
      ]
    },
    {
      "cell_type": "code",
      "execution_count": null,
      "metadata": {
        "id": "w-k6H-1ZKTYo"
      },
      "outputs": [],
      "source": []
    }
  ],
  "metadata": {
    "colab": {
      "provenance": [],
      "include_colab_link": true
    },
    "kernelspec": {
      "display_name": "Python 3",
      "name": "python3"
    },
    "language_info": {
      "codemirror_mode": {
        "name": "ipython",
        "version": 3
      },
      "file_extension": ".py",
      "mimetype": "text/x-python",
      "name": "python",
      "nbconvert_exporter": "python",
      "pygments_lexer": "ipython3",
      "version": "3.10.10"
    }
  },
  "nbformat": 4,
  "nbformat_minor": 0
}